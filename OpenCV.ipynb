{
 "cells": [
  {
   "cell_type": "code",
   "execution_count": 5,
   "id": "aeea5c39-ab82-453f-8bcf-c91080a82e14",
   "metadata": {},
   "outputs": [],
   "source": [
    "import numpy as np\n",
    "import cv2\n",
    "from keras.models import model_from_json"
   ]
  },
  {
   "cell_type": "code",
   "execution_count": 6,
   "id": "d161db49-8fc0-4b3a-8c56-9b27489c62aa",
   "metadata": {},
   "outputs": [],
   "source": [
    "model_json_file = 'model.json'\n",
    "model_weights_file = 'model_weights.h5'\n",
    "with open(model_json_file, \"r\") as json_file:\n",
    "    loaded_model_json = json_file.read()\n",
    "    loaded_model = model_from_json(loaded_model_json)\n",
    "    loaded_model.load_weights(model_weights_file)"
   ]
  },
  {
   "cell_type": "code",
   "execution_count": 7,
   "id": "734cf972-f89c-4ca7-9801-db6937c62bfd",
   "metadata": {},
   "outputs": [],
   "source": [
    "face_cascade = cv2.CascadeClassifier('haarcascade_frontalface_default.xml')"
   ]
  },
  {
   "cell_type": "code",
   "execution_count": null,
   "id": "17d745c1-daff-4671-9cc2-db0abe945e2c",
   "metadata": {},
   "outputs": [
    {
     "name": "stdout",
     "output_type": "stream",
     "text": [
      "WebCam: True\n"
     ]
    }
   ],
   "source": [
    "cap = cv2.VideoCapture(0)\n",
    "\n",
    "print(f\"WebCam: {cap.isOpened()}\")\n",
    "\n",
    "import copy\n",
    "import time\n",
    "\n",
    "while not cap.isOpened():\n",
    "  time.sleep(1)\n",
    "  print(\"waiting for cam\")\n",
    "\n",
    "\n",
    "\n",
    "while True:\n",
    "    \n",
    "\n",
    "    ret, frame = cap.read()\n",
    "    img = copy.deepcopy(frame)\n",
    "    gray = cv2.cvtColor(img, cv2.COLOR_BGR2GRAY)\n",
    "    # gray = cv2.cvtColor(img, cv2.IMREAD_GRAYSCALE)\n",
    "    faces = face_cascade.detectMultiScale(gray, 1.3, 5)\n",
    "    Open = False\n",
    "    for (x,y,w,h) in faces:\n",
    "        fc = gray[y:y+h, x:x+w]\n",
    "        fc2 = cv2.resize(fc, (555,555))\n",
    "        Open = True\n",
    "        roi = cv2.resize(fc, (48,48))\n",
    "        pred = loaded_model.predict(roi[np.newaxis, :, :, np.newaxis])\n",
    "        text_idx=np.argmax(pred)\n",
    "\n",
    "        text_list = ['Angry', 'Disgust', 'Fear', 'Happy', 'Neutral', 'Sad', 'Surprise']\n",
    "        \n",
    "        confidence = round(pred[0][np.argmax(pred)]*100,1)\n",
    "        text = f\"{text_list[text_idx]}: {confidence}%\"\n",
    "\n",
    "        cv2.putText(img, text, (x, y-5),\n",
    "           cv2.FONT_HERSHEY_SIMPLEX, 1, (255, 0, 255), 2)\n",
    "        cv2.putText(fc2, text, (15, 15),\n",
    "           cv2.FONT_HERSHEY_SIMPLEX, 1, (255, 0, 255), 2)\n",
    "        img = cv2.rectangle(img, (x,y), (x+w, y+h), (0,0,255), 2)\n",
    "        \n",
    "    \n",
    "    cv2.imshow(\"Web cam\",img)\n",
    "    if Open:\n",
    "        cv2.imshow(\"Input view\",fc2)\n",
    "    key = cv2.waitKey(1) & 0xFF\n",
    "    if key== ord('q'):\n",
    "        break\n",
    "    \n",
    "cap.release()\n",
    "cv2.destroyAllWindows()"
   ]
  },
  {
   "cell_type": "code",
   "execution_count": null,
   "id": "7c5f04ec-90d8-40e0-9333-093d826ba488",
   "metadata": {},
   "outputs": [],
   "source": []
  }
 ],
 "metadata": {
  "kernelspec": {
   "display_name": "Python 3 (ipykernel)",
   "language": "python",
   "name": "python3"
  },
  "language_info": {
   "codemirror_mode": {
    "name": "ipython",
    "version": 3
   },
   "file_extension": ".py",
   "mimetype": "text/x-python",
   "name": "python",
   "nbconvert_exporter": "python",
   "pygments_lexer": "ipython3",
   "version": "3.8.6"
  }
 },
 "nbformat": 4,
 "nbformat_minor": 5
}
